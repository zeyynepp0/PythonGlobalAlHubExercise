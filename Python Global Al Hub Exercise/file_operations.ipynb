{
  "cells": [
    {
      "cell_type": "markdown",
      "metadata": {
        "id": "4vsuKp1Fn1rR"
      },
      "source": [
        "#Create a file\n",
        "\n",
        "\n",
        "\n",
        "1.   Create a folder called \"file_operations\".\n",
        "2.   Create a file called \"message.txt\" inside \"file_operations\" folder\n",
        "\n",
        "\n",
        "\n",
        "\n"
      ]
    },
    {
      "cell_type": "code",
      "execution_count": 19,
      "metadata": {
        "id": "vGiW6Yl8mMy5"
      },
      "outputs": [
        {
          "name": "stdout",
          "output_type": "stream",
          "text": [
            "c:\\Users\\zeyne\\OneDrive\\Masaüstü\\Python Globalaihub Calisma\\file_operations\n"
          ]
        }
      ],
      "source": [
        "# Navigate to message.txt’s directory\n",
        "%cd \\Users\\zeyne\\OneDrive\\Masaüstü\\Python Globalaihub Calisma\\file_operations"
      ]
    },
    {
      "cell_type": "code",
      "execution_count": 20,
      "metadata": {},
      "outputs": [
        {
          "name": "stdout",
          "output_type": "stream",
          "text": [
            "Merhaba, bu dosyaya yazıldı!\n"
          ]
        }
      ],
      "source": [
        "\"\"\"\"# 1. Dosyayı oluşturmak için 'w' (write) modunu kullanın\n",
        "with open(\"message.txt\", \"w\") as file:\n",
        "    # 2. Dosyaya yazmak için write() fonksiyonunu kullanın\n",
        "    file.write(\"Merhaba, bu dosyaya yazıldı!\")\n",
        "\n",
        "# 3. Dosyanın başarıyla oluşturulduğunu kontrol etmek için okuma modunda açabilirsiniz\n",
        "with open(\"message.txt\", \"r\") as file:\n",
        "    # 4. Dosyadan okuma yapabilirsiniz\n",
        "    content = file.read()\n",
        "    print(content)\n",
        "\"\"\""
      ]
    },
    {
      "cell_type": "code",
      "execution_count": 29,
      "metadata": {
        "id": "Ts-Gogiroc0U"
      },
      "outputs": [],
      "source": [
        "# opens hello.txt text file in the current directory\n",
        "message_file = open(\"message.txt\")"
      ]
    },
    {
      "cell_type": "code",
      "execution_count": 31,
      "metadata": {
        "id": "-oxnKr-yog6G"
      },
      "outputs": [
        {
          "ename": "PermissionError",
          "evalue": "[Errno 13] Permission denied: 'C:\\\\Users\\\\zeyne\\\\OneDrive\\\\Masaüstü\\\\Python Globalaihub Calisma\\\\file_operations'",
          "output_type": "error",
          "traceback": [
            "\u001b[1;31m---------------------------------------------------------------------------\u001b[0m",
            "\u001b[1;31mPermissionError\u001b[0m                           Traceback (most recent call last)",
            "Cell \u001b[1;32mIn[31], line 2\u001b[0m\n\u001b[0;32m      1\u001b[0m \u001b[38;5;66;03m# specifying the full path\u001b[39;00m\n\u001b[1;32m----> 2\u001b[0m message_file \u001b[38;5;241m=\u001b[39m \u001b[38;5;28;43mopen\u001b[39;49m\u001b[43m(\u001b[49m\u001b[38;5;124;43mr\u001b[39;49m\u001b[38;5;124;43m\"\u001b[39;49m\u001b[38;5;124;43mC:\u001b[39;49m\u001b[38;5;124;43m\\\u001b[39;49m\u001b[38;5;124;43mUsers\u001b[39;49m\u001b[38;5;124;43m\\\u001b[39;49m\u001b[38;5;124;43mzeyne\u001b[39;49m\u001b[38;5;124;43m\\\u001b[39;49m\u001b[38;5;124;43mOneDrive\u001b[39;49m\u001b[38;5;124;43m\\\u001b[39;49m\u001b[38;5;124;43mMasaüstü\u001b[39;49m\u001b[38;5;124;43m\\\u001b[39;49m\u001b[38;5;124;43mPython Globalaihub Calisma\u001b[39;49m\u001b[38;5;124;43m\\\u001b[39;49m\u001b[38;5;124;43mfile_operations\u001b[39;49m\u001b[38;5;124;43m\"\u001b[39;49m\u001b[43m)\u001b[49m\n",
            "File \u001b[1;32m~\\AppData\\Roaming\\Python\\Python312\\site-packages\\IPython\\core\\interactiveshell.py:310\u001b[0m, in \u001b[0;36m_modified_open\u001b[1;34m(file, *args, **kwargs)\u001b[0m\n\u001b[0;32m    303\u001b[0m \u001b[38;5;28;01mif\u001b[39;00m file \u001b[38;5;129;01min\u001b[39;00m {\u001b[38;5;241m0\u001b[39m, \u001b[38;5;241m1\u001b[39m, \u001b[38;5;241m2\u001b[39m}:\n\u001b[0;32m    304\u001b[0m     \u001b[38;5;28;01mraise\u001b[39;00m \u001b[38;5;167;01mValueError\u001b[39;00m(\n\u001b[0;32m    305\u001b[0m         \u001b[38;5;124mf\u001b[39m\u001b[38;5;124m\"\u001b[39m\u001b[38;5;124mIPython won\u001b[39m\u001b[38;5;124m'\u001b[39m\u001b[38;5;124mt let you open fd=\u001b[39m\u001b[38;5;132;01m{\u001b[39;00mfile\u001b[38;5;132;01m}\u001b[39;00m\u001b[38;5;124m by default \u001b[39m\u001b[38;5;124m\"\u001b[39m\n\u001b[0;32m    306\u001b[0m         \u001b[38;5;124m\"\u001b[39m\u001b[38;5;124mas it is likely to crash IPython. If you know what you are doing, \u001b[39m\u001b[38;5;124m\"\u001b[39m\n\u001b[0;32m    307\u001b[0m         \u001b[38;5;124m\"\u001b[39m\u001b[38;5;124myou can use builtins\u001b[39m\u001b[38;5;124m'\u001b[39m\u001b[38;5;124m open.\u001b[39m\u001b[38;5;124m\"\u001b[39m\n\u001b[0;32m    308\u001b[0m     )\n\u001b[1;32m--> 310\u001b[0m \u001b[38;5;28;01mreturn\u001b[39;00m \u001b[43mio_open\u001b[49m\u001b[43m(\u001b[49m\u001b[43mfile\u001b[49m\u001b[43m,\u001b[49m\u001b[43m \u001b[49m\u001b[38;5;241;43m*\u001b[39;49m\u001b[43margs\u001b[49m\u001b[43m,\u001b[49m\u001b[43m \u001b[49m\u001b[38;5;241;43m*\u001b[39;49m\u001b[38;5;241;43m*\u001b[39;49m\u001b[43mkwargs\u001b[49m\u001b[43m)\u001b[49m\n",
            "\u001b[1;31mPermissionError\u001b[0m: [Errno 13] Permission denied: 'C:\\\\Users\\\\zeyne\\\\OneDrive\\\\Masaüstü\\\\Python Globalaihub Calisma\\\\file_operations'"
          ]
        }
      ],
      "source": [
        "# specifying the full path\n",
        "message_file = open(r\"C:\\Users\\zeyne\\OneDrive\\Masaüstü\\Python Globalaihub Calisma\\file_operations\")\n"
      ]
    },
    {
      "cell_type": "code",
      "execution_count": 26,
      "metadata": {
        "id": "v6FTiSivopbg"
      },
      "outputs": [],
      "source": [
        "message_file = open(\"message.txt\", \"r\")"
      ]
    },
    {
      "cell_type": "code",
      "execution_count": 27,
      "metadata": {
        "id": "Y6VsltxJrxl5"
      },
      "outputs": [],
      "source": [
        "content = message_file.read()\n",
        "message_file.close()"
      ]
    },
    {
      "cell_type": "code",
      "execution_count": 28,
      "metadata": {
        "id": "Z_qkSuwerzpx"
      },
      "outputs": [
        {
          "name": "stdout",
          "output_type": "stream",
          "text": [
            "Merhaba, bu dosyaya yazıldı!\n"
          ]
        }
      ],
      "source": [
        "print(content)"
      ]
    },
    {
      "cell_type": "code",
      "execution_count": null,
      "metadata": {
        "id": "98pZ6mwbr1wi"
      },
      "outputs": [],
      "source": [
        "hello_file = open(\"hello.txt\", \"w\")"
      ]
    },
    {
      "cell_type": "code",
      "execution_count": null,
      "metadata": {
        "id": "ddfzs2aQr7yZ"
      },
      "outputs": [],
      "source": [
        "hello_file.write('Hello world, this is Python')\n",
        "hello_file.close()"
      ]
    },
    {
      "cell_type": "code",
      "execution_count": null,
      "metadata": {
        "id": "P1foCjY3sG5a"
      },
      "outputs": [],
      "source": [
        "​​import random\n",
        "while True:\n",
        "\n",
        "  random_number = random.randrange(1000)\n",
        "  print(random_number)\n",
        " \n",
        "  if random_number == 777:\n",
        "    print('Found!')\n",
        "    break"
      ]
    },
    {
      "cell_type": "code",
      "execution_count": null,
      "metadata": {
        "id": "8rJRc5K7sKFe"
      },
      "outputs": [],
      "source": [
        "import random\n",
        " \n",
        "numbers_file = open('number_history.txt', 'w')\n",
        " \n",
        "while True:\n",
        " \n",
        "  random_number = random.randrange(1000)\n",
        "  print(random_number)\n",
        "  numbers_file.write(str(random_number))\n",
        "  numbers_file.write('\\n')\n",
        " \n",
        "  if random_number == 777:\n",
        "    print('Found!')\n",
        "    numbers_file.write('Found!')\n",
        "    numbers_file.close()\n",
        "    break"
      ]
    },
    {
      "cell_type": "code",
      "execution_count": null,
      "metadata": {
        "id": "97X8-s6ysmW_"
      },
      "outputs": [],
      "source": [
        "import random\n",
        " \n",
        "with open('number_history.txt', 'w') as numbers_file:\n",
        " \n",
        "  while True:\n",
        "\n",
        "    random_number = random.randrange(1000)\n",
        "    print(random_number)\n",
        "    numbers_file.write(str(random_number))\n",
        "    numbers_file.write('\\n')\n",
        " \n",
        "    if random_number == 777:\n",
        "      print('Found!')\n",
        "      numbers_file.write('Found!')\n",
        "      break"
      ]
    }
  ],
  "metadata": {
    "colab": {
      "collapsed_sections": [],
      "name": "File_Operations_updated.ipynb",
      "provenance": []
    },
    "kernelspec": {
      "display_name": "Python 3",
      "name": "python3"
    },
    "language_info": {
      "codemirror_mode": {
        "name": "ipython",
        "version": 3
      },
      "file_extension": ".py",
      "mimetype": "text/x-python",
      "name": "python",
      "nbconvert_exporter": "python",
      "pygments_lexer": "ipython3",
      "version": "3.12.1"
    }
  },
  "nbformat": 4,
  "nbformat_minor": 0
}
