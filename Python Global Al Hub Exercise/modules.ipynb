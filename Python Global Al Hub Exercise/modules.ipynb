{
  "cells": [
    {
      "cell_type": "code",
      "execution_count": 13,
      "metadata": {
        "colab": {
          "base_uri": "https://localhost:8080/",
          "height": 35
        },
        "id": "hjF8B7jrAvaG",
        "outputId": "556ec0b2-7747-413c-d4ec-ed3b5891b0cf"
      },
      "outputs": [
        {
          "data": {
            "text/plain": [
              "' \\nPlease creat test.py file before continue to run the following\\ncode cells.You can right click in the files segment of the colab\\nand create new file.\\n'"
            ]
          },
          "execution_count": 13,
          "metadata": {},
          "output_type": "execute_result"
        }
      ],
      "source": [
        "\"\"\" \n",
        "Please creat test.py file before continue to run the following\n",
        "code cells.You can right click in the files segment of the colab\n",
        "and create new file.\n",
        "\"\"\""
      ]
    },
    {
      "cell_type": "code",
      "execution_count": null,
      "metadata": {},
      "outputs": [],
      "source": []
    },
    {
      "cell_type": "code",
      "execution_count": 93,
      "metadata": {
        "id": "LZp5tUvbBNQV"
      },
      "outputs": [],
      "source": [
        "# write following method in the test.py file\n",
        "\n",
        "\"\"\" \n",
        "test.py module\n",
        "This is a test module to print a message to the screen\n",
        "\"\"\"\n",
        "def greetings(name):\n",
        " print('Hello', name)"
      ]
    },
    {
      "cell_type": "code",
      "execution_count": 1,
      "metadata": {
        "id": "TOOFdZdyDo6G"
      },
      "outputs": [],
      "source": [
        "import mytestz"
      ]
    },
    {
      "cell_type": "code",
      "execution_count": 2,
      "metadata": {
        "id": "Rlp681t4DuZq"
      },
      "outputs": [
        {
          "name": "stdout",
          "output_type": "stream",
          "text": [
            "Hello Deniz\n"
          ]
        }
      ],
      "source": [
        "mytestz.greetings('Deniz')"
      ]
    },
    {
      "cell_type": "code",
      "execution_count": 2,
      "metadata": {
        "colab": {
          "base_uri": "https://localhost:8080/"
        },
        "id": "ZsykYsw-D1Yp",
        "outputId": "d0f334c0-d42e-415e-81c0-2e292bd6c8ee"
      },
      "outputs": [
        {
          "name": "stdout",
          "output_type": "stream",
          "text": [
            "^C\n"
          ]
        },
        {
          "name": "stdout",
          "output_type": "stream",
          "text": [
            "Collecting seaborn\n",
            "  Using cached seaborn-0.13.2-py3-none-any.whl.metadata (5.4 kB)\n",
            "Requirement already satisfied: numpy!=1.24.0,>=1.20 in c:\\users\\zeyne\\appdata\\local\\programs\\python\\python312\\lib\\site-packages (from seaborn) (1.26.1)\n",
            "Collecting pandas>=1.2 (from seaborn)\n",
            "  Using cached pandas-2.2.0-cp312-cp312-win_amd64.whl.metadata (19 kB)\n",
            "Collecting matplotlib!=3.6.1,>=3.4 (from seaborn)\n",
            "  Using cached matplotlib-3.8.2-cp312-cp312-win_amd64.whl.metadata (5.9 kB)\n",
            "Collecting contourpy>=1.0.1 (from matplotlib!=3.6.1,>=3.4->seaborn)\n",
            "  Using cached contourpy-1.2.0-cp312-cp312-win_amd64.whl.metadata (5.8 kB)\n",
            "Collecting cycler>=0.10 (from matplotlib!=3.6.1,>=3.4->seaborn)\n",
            "  Using cached cycler-0.12.1-py3-none-any.whl.metadata (3.8 kB)\n",
            "Collecting fonttools>=4.22.0 (from matplotlib!=3.6.1,>=3.4->seaborn)\n",
            "  Using cached fonttools-4.47.2-cp312-cp312-win_amd64.whl.metadata (160 kB)\n",
            "Collecting kiwisolver>=1.3.1 (from matplotlib!=3.6.1,>=3.4->seaborn)\n",
            "  Using cached kiwisolver-1.4.5-cp312-cp312-win_amd64.whl.metadata (6.5 kB)\n",
            "Requirement already satisfied: packaging>=20.0 in c:\\users\\zeyne\\appdata\\roaming\\python\\python312\\site-packages (from matplotlib!=3.6.1,>=3.4->seaborn) (23.2)\n",
            "Collecting pillow>=8 (from matplotlib!=3.6.1,>=3.4->seaborn)\n",
            "  Using cached pillow-10.2.0-cp312-cp312-win_amd64.whl.metadata (9.9 kB)\n",
            "Collecting pyparsing>=2.3.1 (from matplotlib!=3.6.1,>=3.4->seaborn)\n",
            "  Using cached pyparsing-3.1.1-py3-none-any.whl.metadata (5.1 kB)\n",
            "Requirement already satisfied: python-dateutil>=2.7 in c:\\users\\zeyne\\appdata\\roaming\\python\\python312\\site-packages (from matplotlib!=3.6.1,>=3.4->seaborn) (2.8.2)\n",
            "Collecting pytz>=2020.1 (from pandas>=1.2->seaborn)\n",
            "  Using cached pytz-2024.1-py2.py3-none-any.whl.metadata (22 kB)\n",
            "Collecting tzdata>=2022.7 (from pandas>=1.2->seaborn)\n",
            "  Using cached tzdata-2023.4-py2.py3-none-any.whl.metadata (1.4 kB)\n",
            "Requirement already satisfied: six>=1.5 in c:\\users\\zeyne\\appdata\\roaming\\python\\python312\\site-packages (from python-dateutil>=2.7->matplotlib!=3.6.1,>=3.4->seaborn) (1.16.0)\n",
            "Using cached seaborn-0.13.2-py3-none-any.whl (294 kB)\n",
            "Using cached matplotlib-3.8.2-cp312-cp312-win_amd64.whl (7.6 MB)\n",
            "Using cached pandas-2.2.0-cp312-cp312-win_amd64.whl (11.5 MB)\n",
            "Downloading contourpy-1.2.0-cp312-cp312-win_amd64.whl (187 kB)\n",
            "   ---------------------------------------- 0.0/187.7 kB ? eta -:--:--\n",
            "   -- ------------------------------------- 10.2/187.7 kB ? eta -:--:--\n",
            "   -- ------------------------------------- 10.2/187.7 kB ? eta -:--:--\n",
            "   -------- ------------------------------ 41.0/187.7 kB 393.8 kB/s eta 0:00:01\n",
            "   ----------------- --------------------- 81.9/187.7 kB 573.4 kB/s eta 0:00:01\n",
            "   ------------------------ ------------- 122.9/187.7 kB 722.1 kB/s eta 0:00:01\n",
            "   -------------------------------------  184.3/187.7 kB 857.5 kB/s eta 0:00:01\n",
            "   -------------------------------------- 187.7/187.7 kB 810.5 kB/s eta 0:00:00\n",
            "Downloading cycler-0.12.1-py3-none-any.whl (8.3 kB)\n",
            "Downloading fonttools-4.47.2-cp312-cp312-win_amd64.whl (2.2 MB)\n",
            "   ---------------------------------------- 0.0/2.2 MB ? eta -:--:--\n",
            "   ---------------------------------------- 0.0/2.2 MB ? eta -:--:--\n",
            "    --------------------------------------- 0.0/2.2 MB 1.3 MB/s eta 0:00:02\n",
            "    --------------------------------------- 0.0/2.2 MB 1.3 MB/s eta 0:00:02\n",
            "   - -------------------------------------- 0.1/2.2 MB 491.5 kB/s eta 0:00:05\n",
            "   -- ------------------------------------- 0.1/2.2 MB 717.5 kB/s eta 0:00:03\n",
            "   -- ------------------------------------- 0.1/2.2 MB 652.5 kB/s eta 0:00:04\n",
            "   --- ------------------------------------ 0.2/2.2 MB 697.2 kB/s eta 0:00:03\n",
            "   --- ------------------------------------ 0.2/2.2 MB 653.6 kB/s eta 0:00:04\n",
            "   ---- ----------------------------------- 0.2/2.2 MB 684.7 kB/s eta 0:00:03\n",
            "   ---- ----------------------------------- 0.2/2.2 MB 684.7 kB/s eta 0:00:03\n",
            "   ----- ---------------------------------- 0.3/2.2 MB 754.8 kB/s eta 0:00:03\n",
            "   -------- ------------------------------- 0.5/2.2 MB 1.0 MB/s eta 0:00:02\n",
            "   --------- ------------------------------ 0.5/2.2 MB 1.0 MB/s eta 0:00:02\n",
            "   ---------- ----------------------------- 0.6/2.2 MB 1.0 MB/s eta 0:00:02\n",
            "   ----------- ---------------------------- 0.6/2.2 MB 1.0 MB/s eta 0:00:02\n",
            "   ------------- -------------------------- 0.7/2.2 MB 1.2 MB/s eta 0:00:02\n",
            "   --------------- ------------------------ 0.8/2.2 MB 1.2 MB/s eta 0:00:02\n",
            "   ---------------- ----------------------- 0.9/2.2 MB 1.3 MB/s eta 0:00:02\n",
            "   ----------------- ---------------------- 1.0/2.2 MB 1.3 MB/s eta 0:00:01\n",
            "   -------------------- ------------------- 1.1/2.2 MB 1.3 MB/s eta 0:00:01\n",
            "   ---------------------- ----------------- 1.2/2.2 MB 1.4 MB/s eta 0:00:01\n",
            "   ----------------------- ---------------- 1.3/2.2 MB 1.4 MB/s eta 0:00:01\n",
            "   ------------------------ --------------- 1.3/2.2 MB 1.4 MB/s eta 0:00:01\n",
            "   -------------------------- ------------- 1.4/2.2 MB 1.5 MB/s eta 0:00:01\n",
            "   ---------------------------- ----------- 1.6/2.2 MB 1.5 MB/s eta 0:00:01\n",
            "   ------------------------------ --------- 1.6/2.2 MB 1.6 MB/s eta 0:00:01\n",
            "   ------------------------------ --------- 1.6/2.2 MB 1.6 MB/s eta 0:00:01\n",
            "   ------------------------------ --------- 1.6/2.2 MB 1.6 MB/s eta 0:00:01\n",
            "   ------------------------------- -------- 1.7/2.2 MB 1.4 MB/s eta 0:00:01\n",
            "   ---------------------------------- ----- 1.9/2.2 MB 1.5 MB/s eta 0:00:01\n",
            "   ------------------------------------ --- 2.0/2.2 MB 1.6 MB/s eta 0:00:01\n",
            "   ------------------------------------ --- 2.0/2.2 MB 1.6 MB/s eta 0:00:01\n",
            "   ------------------------------------ --- 2.0/2.2 MB 1.6 MB/s eta 0:00:01\n",
            "   -------------------------------------- - 2.1/2.2 MB 1.5 MB/s eta 0:00:01\n",
            "   ---------------------------------------  2.2/2.2 MB 1.5 MB/s eta 0:00:01\n",
            "   ---------------------------------------- 2.2/2.2 MB 1.5 MB/s eta 0:00:00\n",
            "Downloading kiwisolver-1.4.5-cp312-cp312-win_amd64.whl (56 kB)\n",
            "   ---------------------------------------- 0.0/56.0 kB ? eta -:--:--\n",
            "   ---------------------------------------- 56.0/56.0 kB 1.5 MB/s eta 0:00:00\n",
            "Downloading pillow-10.2.0-cp312-cp312-win_amd64.whl (2.6 MB)\n",
            "   ---------------------------------------- 0.0/2.6 MB ? eta -:--:--\n",
            "    --------------------------------------- 0.0/2.6 MB ? eta -:--:--\n",
            "    --------------------------------------- 0.0/2.6 MB ? eta -:--:--\n",
            "    --------------------------------------- 0.0/2.6 MB ? eta -:--:--\n",
            "    --------------------------------------- 0.0/2.6 MB ? eta -:--:--\n",
            "    --------------------------------------- 0.0/2.6 MB ? eta -:--:--\n",
            "    --------------------------------------- 0.0/2.6 MB ? eta -:--:--\n",
            "    --------------------------------------- 0.0/2.6 MB ? eta -:--:--\n",
            "    --------------------------------------- 0.0/2.6 MB ? eta -:--:--\n",
            "    --------------------------------------- 0.0/2.6 MB ? eta -:--:--\n",
            "    --------------------------------------- 0.0/2.6 MB ? eta -:--:--\n",
            "    --------------------------------------- 0.0/2.6 MB ? eta -:--:--\n",
            "    --------------------------------------- 0.0/2.6 MB ? eta -:--:--\n",
            "    --------------------------------------- 0.0/2.6 MB ? eta -:--:--\n",
            "    --------------------------------------- 0.1/2.6 MB 84.1 kB/s eta 0:00:31\n",
            "    --------------------------------------- 0.1/2.6 MB 84.1 kB/s eta 0:00:31\n",
            "    --------------------------------------- 0.1/2.6 MB 84.1 kB/s eta 0:00:31\n",
            "    --------------------------------------- 0.1/2.6 MB 84.1 kB/s eta 0:00:31\n",
            "    --------------------------------------- 0.1/2.6 MB 84.1 kB/s eta 0:00:31\n",
            "   - -------------------------------------- 0.1/2.6 MB 75.7 kB/s eta 0:00:34\n",
            "   - -------------------------------------- 0.1/2.6 MB 75.7 kB/s eta 0:00:34\n",
            "   - -------------------------------------- 0.1/2.6 MB 75.7 kB/s eta 0:00:34\n",
            "   - -------------------------------------- 0.1/2.6 MB 75.7 kB/s eta 0:00:34\n",
            "   - -------------------------------------- 0.1/2.6 MB 75.7 kB/s eta 0:00:34\n",
            "   - -------------------------------------- 0.1/2.6 MB 75.7 kB/s eta 0:00:34\n",
            "   - -------------------------------------- 0.1/2.6 MB 75.7 kB/s eta 0:00:34\n",
            "   - -------------------------------------- 0.1/2.6 MB 75.7 kB/s eta 0:00:34\n",
            "   - -------------------------------------- 0.1/2.6 MB 75.7 kB/s eta 0:00:34\n",
            "   - -------------------------------------- 0.1/2.6 MB 75.7 kB/s eta 0:00:34\n",
            "   - -------------------------------------- 0.1/2.6 MB 75.7 kB/s eta 0:00:34\n",
            "   - -------------------------------------- 0.1/2.6 MB 75.7 kB/s eta 0:00:34\n",
            "   - -------------------------------------- 0.1/2.6 MB 75.7 kB/s eta 0:00:34\n",
            "   - -------------------------------------- 0.1/2.6 MB 75.7 kB/s eta 0:00:34\n",
            "   - -------------------------------------- 0.1/2.6 MB 75.7 kB/s eta 0:00:34\n",
            "   - -------------------------------------- 0.1/2.6 MB 75.7 kB/s eta 0:00:34\n",
            "   - -------------------------------------- 0.1/2.6 MB 75.7 kB/s eta 0:00:34\n",
            "   - -------------------------------------- 0.1/2.6 MB 75.7 kB/s eta 0:00:34\n",
            "   - -------------------------------------- 0.1/2.6 MB 75.7 kB/s eta 0:00:34\n",
            "   - -------------------------------------- 0.1/2.6 MB 75.7 kB/s eta 0:00:34\n",
            "   - -------------------------------------- 0.1/2.6 MB 75.7 kB/s eta 0:00:34\n",
            "   - -------------------------------------- 0.1/2.6 MB 75.7 kB/s eta 0:00:34\n",
            "   - -------------------------------------- 0.1/2.6 MB 75.7 kB/s eta 0:00:34\n",
            "   - -------------------------------------- 0.1/2.6 MB 75.7 kB/s eta 0:00:34\n",
            "   - -------------------------------------- 0.1/2.6 MB 75.7 kB/s eta 0:00:34\n",
            "   - -------------------------------------- 0.1/2.6 MB 75.7 kB/s eta 0:00:34\n",
            "   - -------------------------------------- 0.1/2.6 MB 75.7 kB/s eta 0:00:34\n",
            "   - -------------------------------------- 0.1/2.6 MB 75.7 kB/s eta 0:00:34\n",
            "   - -------------------------------------- 0.1/2.6 MB 75.7 kB/s eta 0:00:34\n",
            "   - -------------------------------------- 0.1/2.6 MB 75.7 kB/s eta 0:00:34\n",
            "   - -------------------------------------- 0.1/2.6 MB 75.7 kB/s eta 0:00:34\n",
            "   - -------------------------------------- 0.1/2.6 MB 75.7 kB/s eta 0:00:34\n",
            "   - -------------------------------------- 0.1/2.6 MB 75.7 kB/s eta 0:00:34\n",
            "   - -------------------------------------- 0.1/2.6 MB 36.2 kB/s eta 0:01:10\n",
            "   - -------------------------------------- 0.1/2.6 MB 36.2 kB/s eta 0:01:10\n",
            "   - -------------------------------------- 0.1/2.6 MB 36.2 kB/s eta 0:01:10\n",
            "   - -------------------------------------- 0.1/2.6 MB 36.2 kB/s eta 0:01:10\n",
            "   - -------------------------------------- 0.1/2.6 MB 36.2 kB/s eta 0:01:10\n",
            "   - -------------------------------------- 0.1/2.6 MB 36.2 kB/s eta 0:01:10\n",
            "   - -------------------------------------- 0.1/2.6 MB 36.2 kB/s eta 0:01:10\n",
            "   - -------------------------------------- 0.1/2.6 MB 36.2 kB/s eta 0:01:10\n",
            "   - -------------------------------------- 0.1/2.6 MB 36.2 kB/s eta 0:01:10\n",
            "   - -------------------------------------- 0.1/2.6 MB 36.2 kB/s eta 0:01:10\n",
            "   - -------------------------------------- 0.1/2.6 MB 36.2 kB/s eta 0:01:10\n",
            "   - -------------------------------------- 0.1/2.6 MB 36.2 kB/s eta 0:01:10\n",
            "   - -------------------------------------- 0.1/2.6 MB 36.2 kB/s eta 0:01:10\n",
            "   - -------------------------------------- 0.1/2.6 MB 36.2 kB/s eta 0:01:10\n",
            "   - -------------------------------------- 0.1/2.6 MB 36.2 kB/s eta 0:01:10\n",
            "   - -------------------------------------- 0.1/2.6 MB 36.2 kB/s eta 0:01:10\n",
            "   - -------------------------------------- 0.1/2.6 MB 36.2 kB/s eta 0:01:10\n",
            "   - -------------------------------------- 0.1/2.6 MB 36.2 kB/s eta 0:01:10\n",
            "   - -------------------------------------- 0.1/2.6 MB 34.1 kB/s eta 0:01:14\n",
            "   - -------------------------------------- 0.1/2.6 MB 34.1 kB/s eta 0:01:14\n",
            "   - -------------------------------------- 0.1/2.6 MB 34.1 kB/s eta 0:01:14\n",
            "   - -------------------------------------- 0.1/2.6 MB 34.1 kB/s eta 0:01:14\n",
            "   - -------------------------------------- 0.1/2.6 MB 34.1 kB/s eta 0:01:14\n",
            "   - -------------------------------------- 0.1/2.6 MB 34.1 kB/s eta 0:01:14\n",
            "   - -------------------------------------- 0.1/2.6 MB 34.1 kB/s eta 0:01:14\n",
            "   - -------------------------------------- 0.1/2.6 MB 34.1 kB/s eta 0:01:14\n",
            "   - -------------------------------------- 0.1/2.6 MB 33.5 kB/s eta 0:01:15\n",
            "   - -------------------------------------- 0.1/2.6 MB 33.5 kB/s eta 0:01:15\n",
            "   - -------------------------------------- 0.1/2.6 MB 33.5 kB/s eta 0:01:15\n",
            "   - -------------------------------------- 0.1/2.6 MB 33.5 kB/s eta 0:01:15\n",
            "   - -------------------------------------- 0.1/2.6 MB 33.5 kB/s eta 0:01:15\n",
            "   - -------------------------------------- 0.1/2.6 MB 33.5 kB/s eta 0:01:15\n",
            "   - -------------------------------------- 0.1/2.6 MB 33.5 kB/s eta 0:01:15\n",
            "   - -------------------------------------- 0.1/2.6 MB 33.5 kB/s eta 0:01:15\n",
            "   -- ------------------------------------- 0.2/2.6 MB 38.9 kB/s eta 0:01:04\n",
            "   -- ------------------------------------- 0.2/2.6 MB 44.2 kB/s eta 0:00:56\n",
            "   --- ------------------------------------ 0.2/2.6 MB 51.7 kB/s eta 0:00:47\n",
            "   --- ------------------------------------ 0.2/2.6 MB 59.1 kB/s eta 0:00:41\n",
            "   ---- ----------------------------------- 0.3/2.6 MB 69.0 kB/s eta 0:00:34\n",
            "   ----- ---------------------------------- 0.4/2.6 MB 89.5 kB/s eta 0:00:26\n",
            "   ------ --------------------------------- 0.5/2.6 MB 111.4 kB/s eta 0:00:20\n",
            "   ------- -------------------------------- 0.5/2.6 MB 120.3 kB/s eta 0:00:18\n",
            "   ------- -------------------------------- 0.5/2.6 MB 125.0 kB/s eta 0:00:17\n",
            "   ------- -------------------------------- 0.5/2.6 MB 125.0 kB/s eta 0:00:17\n",
            "   ------- -------------------------------- 0.5/2.6 MB 125.0 kB/s eta 0:00:17\n",
            "   -------- ------------------------------- 0.5/2.6 MB 125.2 kB/s eta 0:00:17\n",
            "   -------- ------------------------------- 0.5/2.6 MB 125.2 kB/s eta 0:00:17\n",
            "   -------- ------------------------------- 0.6/2.6 MB 130.1 kB/s eta 0:00:16\n",
            "   -------- ------------------------------- 0.6/2.6 MB 131.6 kB/s eta 0:00:16\n",
            "   --------- ------------------------------ 0.6/2.6 MB 142.0 kB/s eta 0:00:15\n",
            "   ---------- ----------------------------- 0.7/2.6 MB 158.6 kB/s eta 0:00:13\n",
            "   ------------ --------------------------- 0.8/2.6 MB 175.4 kB/s eta 0:00:11\n",
            "   ------------- -------------------------- 0.9/2.6 MB 189.5 kB/s eta 0:00:10\n",
            "   ------------- -------------------------- 0.9/2.6 MB 194.4 kB/s eta 0:00:09\n",
            "   -------------- ------------------------- 1.0/2.6 MB 205.8 kB/s eta 0:00:09\n",
            "   ---------------- ----------------------- 1.1/2.6 MB 234.7 kB/s eta 0:00:07\n",
            "   ------------------- -------------------- 1.3/2.6 MB 267.4 kB/s eta 0:00:06\n",
            "   -------------------- ------------------- 1.4/2.6 MB 288.6 kB/s eta 0:00:05\n",
            "   ---------------------- ----------------- 1.5/2.6 MB 309.5 kB/s eta 0:00:04\n",
            "   ------------------------ --------------- 1.6/2.6 MB 339.4 kB/s eta 0:00:03\n",
            "   --------------------------- ------------ 1.8/2.6 MB 364.6 kB/s eta 0:00:03\n",
            "   ---------------------------- ----------- 1.9/2.6 MB 381.1 kB/s eta 0:00:02\n",
            "   ------------------------------- -------- 2.0/2.6 MB 410.7 kB/s eta 0:00:02\n",
            "   --------------------------------- ------ 2.2/2.6 MB 437.6 kB/s eta 0:00:01\n",
            "   ---------------------------------- ----- 2.3/2.6 MB 453.3 kB/s eta 0:00:01\n",
            "   ------------------------------------ --- 2.4/2.6 MB 465.3 kB/s eta 0:00:01\n",
            "   -------------------------------------- - 2.5/2.6 MB 487.0 kB/s eta 0:00:01\n",
            "   ---------------------------------------- 2.6/2.6 MB 506.5 kB/s eta 0:00:00\n",
            "Downloading pyparsing-3.1.1-py3-none-any.whl (103 kB)\n",
            "   ---------------------------------------- 0.0/103.1 kB ? eta -:--:--\n",
            "   ---------------------------------------- 103.1/103.1 kB 6.2 MB/s eta 0:00:00\n",
            "Downloading pytz-2024.1-py2.py3-none-any.whl (505 kB)\n",
            "   ---------------------------------------- 0.0/505.5 kB ? eta -:--:--\n",
            "   ---- ----------------------------------- 61.4/505.5 kB 3.2 MB/s eta 0:00:01\n",
            "   --------------- ------------------------ 194.6/505.5 kB 3.0 MB/s eta 0:00:01\n",
            "   ------------------- -------------------- 245.8/505.5 kB 3.0 MB/s eta 0:00:01\n",
            "   ------------------- -------------------- 245.8/505.5 kB 3.0 MB/s eta 0:00:01\n",
            "   -------------------------- ------------- 337.9/505.5 kB 1.6 MB/s eta 0:00:01\n",
            "   ----------------------------- ---------- 368.6/505.5 kB 1.5 MB/s eta 0:00:01\n",
            "   --------------------------------- ------ 419.8/505.5 kB 1.5 MB/s eta 0:00:01\n",
            "   ---------------------------------------  501.8/505.5 kB 1.5 MB/s eta 0:00:01\n",
            "   ---------------------------------------- 505.5/505.5 kB 1.4 MB/s eta 0:00:00\n",
            "Downloading tzdata-2023.4-py2.py3-none-any.whl (346 kB)\n",
            "   ---------------------------------------- 0.0/346.6 kB ? eta -:--:--\n",
            "   --- ------------------------------------ 30.7/346.6 kB 1.3 MB/s eta 0:00:01\n",
            "   ------------- -------------------------- 112.6/346.6 kB 1.6 MB/s eta 0:00:01\n",
            "   ----------------------- ---------------- 204.8/346.6 kB 1.8 MB/s eta 0:00:01\n",
            "   --------------------------------- ------ 286.7/346.6 kB 1.8 MB/s eta 0:00:01\n",
            "   ---------------------------------------- 346.6/346.6 kB 1.7 MB/s eta 0:00:00\n",
            "Installing collected packages: pytz, tzdata, pyparsing, pillow, kiwisolver, fonttools, cycler, contourpy, pandas, matplotlib, seaborn\n",
            "Successfully installed contourpy-1.2.0 cycler-0.12.1 fonttools-4.47.2 kiwisolver-1.4.5 matplotlib-3.8.2 pandas-2.2.0 pillow-10.2.0 pyparsing-3.1.1 pytz-2024.1 seaborn-0.13.2 tzdata-2023.4\n"
          ]
        }
      ],
      "source": [
        "!pip install seaborn"
      ]
    },
    {
      "cell_type": "code",
      "execution_count": 7,
      "metadata": {
        "id": "p0dVLMBQD5lk"
      },
      "outputs": [],
      "source": [
        "import seaborn as sns"
      ]
    },
    {
      "cell_type": "code",
      "execution_count": 35,
      "metadata": {
        "colab": {
          "base_uri": "https://localhost:8080/",
          "height": 339
        },
        "id": "PyLZstqoD7sD",
        "outputId": "eeebbb6a-9215-4487-8eb3-fda650e435c2"
      },
      "outputs": [
        {
          "ename": "TypeError",
          "evalue": "lineplot() takes from 0 to 1 positional arguments but 2 were given",
          "output_type": "error",
          "traceback": [
            "\u001b[1;31m---------------------------------------------------------------------------\u001b[0m",
            "\u001b[1;31mTypeError\u001b[0m                                 Traceback (most recent call last)",
            "Cell \u001b[1;32mIn[35], line 6\u001b[0m\n\u001b[0;32m      1\u001b[0m \u001b[38;5;28;01mimport\u001b[39;00m \u001b[38;5;21;01mseaborn\u001b[39;00m \u001b[38;5;28;01mas\u001b[39;00m \u001b[38;5;21;01msns\u001b[39;00m\n\u001b[0;32m      4\u001b[0m data \u001b[38;5;241m=\u001b[39m [\u001b[38;5;241m1\u001b[39m, \u001b[38;5;241m2\u001b[39m, \u001b[38;5;241m10\u001b[39m, \u001b[38;5;241m3\u001b[39m, \u001b[38;5;241m5\u001b[39m, \u001b[38;5;241m6\u001b[39m, \u001b[38;5;241m13\u001b[39m]\n\u001b[1;32m----> 6\u001b[0m \u001b[43msns\u001b[49m\u001b[38;5;241;43m.\u001b[39;49m\u001b[43mlineplot\u001b[49m\u001b[43m(\u001b[49m\u001b[38;5;28;43mrange\u001b[39;49m\u001b[43m(\u001b[49m\u001b[38;5;241;43m7\u001b[39;49m\u001b[43m)\u001b[49m\u001b[43m,\u001b[49m\u001b[43m \u001b[49m\u001b[43mdata\u001b[49m\u001b[43m)\u001b[49m\n",
            "\u001b[1;31mTypeError\u001b[0m: lineplot() takes from 0 to 1 positional arguments but 2 were given"
          ]
        }
      ],
      "source": [
        "import seaborn as sns\n",
        "\n",
        " \n",
        "data = [1, 2, 10, 3, 5, 6, 13]\n",
        "\n",
        "sns.lineplot(range(7), data)\n",
        "\n"
      ]
    },
    {
      "cell_type": "code",
      "execution_count": 31,
      "metadata": {},
      "outputs": [
        {
          "data": {
            "image/png": "[encoded data removed]",
            "text/plain": [
              "<Figure size 640x480 with 1 Axes>"
            ]
          },
          "metadata": {},
          "output_type": "display_data"
        }
      ],
      "source": [
        "import seaborn as sns\n",
        "import matplotlib.pyplot as plt\n",
        "\n",
        "data = [1, 2, 10, 3, 5, 6, 13]\n",
        "\n",
        "# Veriyi bir Pandas DataFrame'e dönüştürme\n",
        "df = pd.DataFrame({'x': range(7), 'y': data})\n",
        "\n",
        "# lineplot çizimi\n",
        "sns.lineplot(x='x', y='y', data=df)\n",
        "\n",
        "plt.show()\n"
      ]
    },
    {
      "cell_type": "code",
      "execution_count": 29,
      "metadata": {},
      "outputs": [
        {
          "data": {
            "image/png": "[encoded data removed]",
            "text/plain": [
              "<Figure size 640x480 with 1 Axes>"
            ]
          },
          "metadata": {},
          "output_type": "display_data"
        }
      ],
      "source": [
        "import seaborn as sns\n",
        "import matplotlib.pyplot as plt\n",
        "import pandas as pd\n",
        "\n",
        "data = [1, 2, 10, 3, 5, 6, 13]\n",
        "x_values = range(7)\n",
        "\n",
        "# Veriyi bir veri çerçevesine dönüştür\n",
        "df = pd.DataFrame({'x': x_values, 'y': data})\n",
        "\n",
        "# Veri çerçevesini kullanarak lineplot çizimi\n",
        "sns.lineplot(x='x', y='y', data=df)\n",
        "\n",
        "plt.show()\n"
      ]
    }
  ],
  "metadata": {
    "colab": {
      "collapsed_sections": [],
      "name": "Modules.ipynb",
      "provenance": []
    },
    "kernelspec": {
      "display_name": "Python 3",
      "name": "python3"
    },
    "language_info": {
      "codemirror_mode": {
        "name": "ipython",
        "version": 3
      },
      "file_extension": ".py",
      "mimetype": "text/x-python",
      "name": "python",
      "nbconvert_exporter": "python",
      "pygments_lexer": "ipython3",
      "version": "3.12.1"
    }
  },
  "nbformat": 4,
  "nbformat_minor": 0
}
