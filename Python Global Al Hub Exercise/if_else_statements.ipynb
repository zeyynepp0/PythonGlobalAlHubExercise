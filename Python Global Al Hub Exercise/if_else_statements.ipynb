{
  "cells": [
    {
      "cell_type": "code",
      "execution_count": 2,
      "metadata": {
        "colab": {
          "base_uri": "https://localhost:8080/"
        },
        "id": "aD_OzFaB5vmY",
        "outputId": "9db718db-a281-42af-cef0-425b76f2d21a"
      },
      "outputs": [
        {
          "name": "stdout",
          "output_type": "stream",
          "text": [
            "Good 🟩\n"
          ]
        }
      ],
      "source": [
        "celsius = 25\n",
        "if celsius > 20:\n",
        "  print('Good 🟩')"
      ]
    },
    {
      "cell_type": "code",
      "execution_count": 3,
      "metadata": {
        "id": "74-_wZlL51f1"
      },
      "outputs": [],
      "source": [
        "celsius = 18\n",
        "if celsius > 20:\n",
        "  print('Good 🟩')"
      ]
    },
    {
      "cell_type": "code",
      "execution_count": 3,
      "metadata": {
        "colab": {
          "base_uri": "https://localhost:8080/"
        },
        "id": "-SSIh0iv53K4",
        "outputId": "2c9a0fc8-cd9d-4c8f-8d99-76964b14a310"
      },
      "outputs": [
        {
          "name": "stdout",
          "output_type": "stream",
          "text": [
            "Cold ❄️\n"
          ]
        }
      ],
      "source": [
        "celsius = 18\n",
        "if celsius > 20:\n",
        "  print('Good 🟩')\n",
        "else:\n",
        "  print('Cold ❄️')"
      ]
    },
    {
      "cell_type": "code",
      "execution_count": 4,
      "metadata": {
        "colab": {
          "base_uri": "https://localhost:8080/"
        },
        "id": "Wm_vcxQW544b",
        "outputId": "061da595-5153-41cf-8ff4-3e71a3e004af"
      },
      "outputs": [
        {
          "name": "stdout",
          "output_type": "stream",
          "text": [
            "Hot 🔥\n",
            "Good 🟩\n"
          ]
        }
      ],
      "source": [
        "celsius = 32\n",
        "if celsius > 30:\n",
        "  print('Hot 🔥')\n",
        "if celsius > 20:\n",
        "  print('Good 🟩')\n",
        "else: \n",
        "  print('Cold ❄️')"
      ]
    },
    {
      "cell_type": "code",
      "execution_count": 5,
      "metadata": {
        "colab": {
          "base_uri": "https://localhost:8080/"
        },
        "id": "qE-u5u2W58p5",
        "outputId": "76a95715-80e9-4602-e00b-0f6760bed140"
      },
      "outputs": [
        {
          "name": "stdout",
          "output_type": "stream",
          "text": [
            "Hot 🔥\n"
          ]
        }
      ],
      "source": [
        "celsius = 32\n",
        "if celsius > 30:\n",
        "  print('Hot 🔥')\n",
        "elif celsius > 20:\n",
        "  print('Good 🟩')\n",
        "else: \n",
        "  print('Cold ❄️')"
      ]
    },
    {
      "cell_type": "code",
      "execution_count": 6,
      "metadata": {
        "colab": {
          "base_uri": "https://localhost:8080/"
        },
        "id": "t3IOFpmW6FP1",
        "outputId": "ff5e76a1-da35-4281-dd13-34220d15137c"
      },
      "outputs": [
        {
          "name": "stdout",
          "output_type": "stream",
          "text": [
            "Hot 🔥\n"
          ]
        }
      ],
      "source": [
        "celsius = 32\n",
        " \n",
        "if celsius > 30:\n",
        "  print('Hot 🔥')\n",
        "elif 30 >= celsius > 20:\n",
        "  print('Good 🟩')\n",
        "elif -273 < celsius <= 20:\n",
        "  print('Cold ❄️')\n",
        "else:\n",
        "  print('Something went wrong!')"
      ]
    },
    {
      "cell_type": "code",
      "execution_count": 7,
      "metadata": {
        "colab": {
          "base_uri": "https://localhost:8080/"
        },
        "id": "UEiL47E16HOp",
        "outputId": "02b3ce5f-ffa3-4210-8e18-0e34ec732cb6"
      },
      "outputs": [
        {
          "name": "stdout",
          "output_type": "stream",
          "text": [
            "You need to get older\n"
          ]
        }
      ],
      "source": [
        "drivers_licence = True\n",
        "age = 17\n",
        " \n",
        "if age > 17:\n",
        "    if drivers_licence:\n",
        "        print('You can drive car')\n",
        "    else:\n",
        "        print('You need to go to a drivers licence course')\n",
        "else:\n",
        "    print('You need to get older')"
      ]
    }
  ],
  "metadata": {
    "colab": {
      "collapsed_sections": [],
      "name": "If-Else Statements.ipynb",
      "provenance": []
    },
    "kernelspec": {
      "display_name": "Python 3",
      "name": "python3"
    },
    "language_info": {
      "codemirror_mode": {
        "name": "ipython",
        "version": 3
      },
      "file_extension": ".py",
      "mimetype": "text/x-python",
      "name": "python",
      "nbconvert_exporter": "python",
      "pygments_lexer": "ipython3",
      "version": "3.12.0"
    }
  },
  "nbformat": 4,
  "nbformat_minor": 0
}
